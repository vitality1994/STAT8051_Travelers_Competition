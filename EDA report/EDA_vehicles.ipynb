{
 "cells": [
  {
   "cell_type": "code",
   "execution_count": 1,
   "id": "2a69fa17",
   "metadata": {},
   "outputs": [],
   "source": [
    "import numpy as np\n",
    "import pandas as pd\n",
    "import seaborn as sns\n",
    "import matplotlib.pyplot as plt\n",
    "\n",
    "import warnings\n",
    "warnings.filterwarnings(action='ignore')"
   ]
  },
  {
   "cell_type": "code",
   "execution_count": 2,
   "id": "f2ac4c49",
   "metadata": {},
   "outputs": [],
   "source": [
    "# Read vehicles.csv\n",
    "vehicles_data = pd.read_csv('./vehicles.csv')"
   ]
  },
  {
   "cell_type": "code",
   "execution_count": 23,
   "id": "e62169ec",
   "metadata": {},
   "outputs": [
    {
     "data": {
      "text/html": [
       "<div>\n",
       "<style scoped>\n",
       "    .dataframe tbody tr th:only-of-type {\n",
       "        vertical-align: middle;\n",
       "    }\n",
       "\n",
       "    .dataframe tbody tr th {\n",
       "        vertical-align: top;\n",
       "    }\n",
       "\n",
       "    .dataframe thead th {\n",
       "        text-align: right;\n",
       "    }\n",
       "</style>\n",
       "<table border=\"1\" class=\"dataframe\">\n",
       "  <thead>\n",
       "    <tr style=\"text-align: right;\">\n",
       "      <th></th>\n",
       "      <th>policy_id</th>\n",
       "      <th>car_no</th>\n",
       "      <th>ownership_type</th>\n",
       "      <th>color</th>\n",
       "      <th>age</th>\n",
       "      <th>make_model</th>\n",
       "    </tr>\n",
       "  </thead>\n",
       "  <tbody>\n",
       "    <tr>\n",
       "      <th>0</th>\n",
       "      <td>policy_74571</td>\n",
       "      <td>1</td>\n",
       "      <td>leased</td>\n",
       "      <td>other</td>\n",
       "      <td>4.0</td>\n",
       "      <td>BMW : R1200CL</td>\n",
       "    </tr>\n",
       "    <tr>\n",
       "      <th>1</th>\n",
       "      <td>policy_74571</td>\n",
       "      <td>2</td>\n",
       "      <td>owned</td>\n",
       "      <td>blue</td>\n",
       "      <td>3.0</td>\n",
       "      <td>ACURA : TL</td>\n",
       "    </tr>\n",
       "    <tr>\n",
       "      <th>2</th>\n",
       "      <td>policy_1998</td>\n",
       "      <td>1</td>\n",
       "      <td>owned</td>\n",
       "      <td>gray</td>\n",
       "      <td>7.0</td>\n",
       "      <td>BMW : 750LI</td>\n",
       "    </tr>\n",
       "    <tr>\n",
       "      <th>3</th>\n",
       "      <td>policy_28085</td>\n",
       "      <td>1</td>\n",
       "      <td>owned</td>\n",
       "      <td>gray</td>\n",
       "      <td>4.0</td>\n",
       "      <td>MERCEDES-BENZ : G55 AMG</td>\n",
       "    </tr>\n",
       "    <tr>\n",
       "      <th>4</th>\n",
       "      <td>policy_64282</td>\n",
       "      <td>1</td>\n",
       "      <td>owned</td>\n",
       "      <td>black</td>\n",
       "      <td>4.0</td>\n",
       "      <td>BMW : 550I GT</td>\n",
       "    </tr>\n",
       "    <tr>\n",
       "      <th>...</th>\n",
       "      <td>...</td>\n",
       "      <td>...</td>\n",
       "      <td>...</td>\n",
       "      <td>...</td>\n",
       "      <td>...</td>\n",
       "      <td>...</td>\n",
       "    </tr>\n",
       "    <tr>\n",
       "      <th>169232</th>\n",
       "      <td>policy_34204</td>\n",
       "      <td>4</td>\n",
       "      <td>owned</td>\n",
       "      <td>gray</td>\n",
       "      <td>6.0</td>\n",
       "      <td>TOYOTA : RAV4</td>\n",
       "    </tr>\n",
       "    <tr>\n",
       "      <th>169233</th>\n",
       "      <td>policy_34204</td>\n",
       "      <td>5</td>\n",
       "      <td>loaned</td>\n",
       "      <td>black</td>\n",
       "      <td>8.0</td>\n",
       "      <td>GMC : SIERRA 1500</td>\n",
       "    </tr>\n",
       "    <tr>\n",
       "      <th>169234</th>\n",
       "      <td>policy_621</td>\n",
       "      <td>1</td>\n",
       "      <td>owned</td>\n",
       "      <td>other</td>\n",
       "      <td>6.0</td>\n",
       "      <td>DODGE : CHARGER</td>\n",
       "    </tr>\n",
       "    <tr>\n",
       "      <th>169235</th>\n",
       "      <td>policy_621</td>\n",
       "      <td>2</td>\n",
       "      <td>owned</td>\n",
       "      <td>black</td>\n",
       "      <td>3.0</td>\n",
       "      <td>GMC : SAVANA 4500</td>\n",
       "    </tr>\n",
       "    <tr>\n",
       "      <th>169236</th>\n",
       "      <td>policy_621</td>\n",
       "      <td>3</td>\n",
       "      <td>loaned</td>\n",
       "      <td>other</td>\n",
       "      <td>4.0</td>\n",
       "      <td>HONDA : CB900F 919</td>\n",
       "    </tr>\n",
       "  </tbody>\n",
       "</table>\n",
       "<p>169237 rows × 6 columns</p>\n",
       "</div>"
      ],
      "text/plain": [
       "           policy_id  car_no ownership_type  color  age  \\\n",
       "0       policy_74571       1         leased  other  4.0   \n",
       "1       policy_74571       2          owned   blue  3.0   \n",
       "2        policy_1998       1          owned   gray  7.0   \n",
       "3       policy_28085       1          owned   gray  4.0   \n",
       "4       policy_64282       1          owned  black  4.0   \n",
       "...              ...     ...            ...    ...  ...   \n",
       "169232  policy_34204       4          owned   gray  6.0   \n",
       "169233  policy_34204       5         loaned  black  8.0   \n",
       "169234    policy_621       1          owned  other  6.0   \n",
       "169235    policy_621       2          owned  black  3.0   \n",
       "169236    policy_621       3         loaned  other  4.0   \n",
       "\n",
       "                     make_model  \n",
       "0                 BMW : R1200CL  \n",
       "1                    ACURA : TL  \n",
       "2                   BMW : 750LI  \n",
       "3       MERCEDES-BENZ : G55 AMG  \n",
       "4                 BMW : 550I GT  \n",
       "...                         ...  \n",
       "169232            TOYOTA : RAV4  \n",
       "169233        GMC : SIERRA 1500  \n",
       "169234          DODGE : CHARGER  \n",
       "169235        GMC : SAVANA 4500  \n",
       "169236       HONDA : CB900F 919  \n",
       "\n",
       "[169237 rows x 6 columns]"
      ]
     },
     "execution_count": 23,
     "metadata": {},
     "output_type": "execute_result"
    }
   ],
   "source": [
    "# Read data\n",
    "vehicles_data"
   ]
  },
  {
   "cell_type": "code",
   "execution_count": null,
   "id": "94d46027",
   "metadata": {},
   "outputs": [],
   "source": []
  },
  {
   "cell_type": "code",
   "execution_count": 4,
   "id": "a9027d0c",
   "metadata": {},
   "outputs": [],
   "source": [
    "# delete the first column because there is no definition of the colum.\n",
    "\n",
    "vehicles_data.drop(['Unnamed: 0'], axis='columns', inplace=True)"
   ]
  },
  {
   "cell_type": "code",
   "execution_count": 5,
   "id": "9600c0a2",
   "metadata": {},
   "outputs": [
    {
     "data": {
      "text/html": [
       "<div>\n",
       "<style scoped>\n",
       "    .dataframe tbody tr th:only-of-type {\n",
       "        vertical-align: middle;\n",
       "    }\n",
       "\n",
       "    .dataframe tbody tr th {\n",
       "        vertical-align: top;\n",
       "    }\n",
       "\n",
       "    .dataframe thead th {\n",
       "        text-align: right;\n",
       "    }\n",
       "</style>\n",
       "<table border=\"1\" class=\"dataframe\">\n",
       "  <thead>\n",
       "    <tr style=\"text-align: right;\">\n",
       "      <th></th>\n",
       "      <th>policy_id</th>\n",
       "      <th>car_no</th>\n",
       "      <th>ownership_type</th>\n",
       "      <th>color</th>\n",
       "      <th>age</th>\n",
       "      <th>make_model</th>\n",
       "    </tr>\n",
       "  </thead>\n",
       "  <tbody>\n",
       "    <tr>\n",
       "      <th>0</th>\n",
       "      <td>policy_74571</td>\n",
       "      <td>1</td>\n",
       "      <td>leased</td>\n",
       "      <td>other</td>\n",
       "      <td>4.0</td>\n",
       "      <td>BMW : R1200CL</td>\n",
       "    </tr>\n",
       "    <tr>\n",
       "      <th>1</th>\n",
       "      <td>policy_74571</td>\n",
       "      <td>2</td>\n",
       "      <td>owned</td>\n",
       "      <td>blue</td>\n",
       "      <td>3.0</td>\n",
       "      <td>ACURA : TL</td>\n",
       "    </tr>\n",
       "    <tr>\n",
       "      <th>2</th>\n",
       "      <td>policy_1998</td>\n",
       "      <td>1</td>\n",
       "      <td>owned</td>\n",
       "      <td>gray</td>\n",
       "      <td>7.0</td>\n",
       "      <td>BMW : 750LI</td>\n",
       "    </tr>\n",
       "    <tr>\n",
       "      <th>3</th>\n",
       "      <td>policy_28085</td>\n",
       "      <td>1</td>\n",
       "      <td>owned</td>\n",
       "      <td>gray</td>\n",
       "      <td>4.0</td>\n",
       "      <td>MERCEDES-BENZ : G55 AMG</td>\n",
       "    </tr>\n",
       "    <tr>\n",
       "      <th>4</th>\n",
       "      <td>policy_64282</td>\n",
       "      <td>1</td>\n",
       "      <td>owned</td>\n",
       "      <td>black</td>\n",
       "      <td>4.0</td>\n",
       "      <td>BMW : 550I GT</td>\n",
       "    </tr>\n",
       "  </tbody>\n",
       "</table>\n",
       "</div>"
      ],
      "text/plain": [
       "      policy_id  car_no ownership_type  color  age               make_model\n",
       "0  policy_74571       1         leased  other  4.0            BMW : R1200CL\n",
       "1  policy_74571       2          owned   blue  3.0               ACURA : TL\n",
       "2   policy_1998       1          owned   gray  7.0              BMW : 750LI\n",
       "3  policy_28085       1          owned   gray  4.0  MERCEDES-BENZ : G55 AMG\n",
       "4  policy_64282       1          owned  black  4.0            BMW : 550I GT"
      ]
     },
     "execution_count": 5,
     "metadata": {},
     "output_type": "execute_result"
    }
   ],
   "source": [
    "vehicles_data.head()"
   ]
  },
  {
   "cell_type": "code",
   "execution_count": 6,
   "id": "b6c6a1da",
   "metadata": {},
   "outputs": [
    {
     "data": {
      "text/plain": [
       "policy_id            0\n",
       "car_no               0\n",
       "ownership_type       0\n",
       "color             1072\n",
       "age                536\n",
       "make_model           0\n",
       "dtype: int64"
      ]
     },
     "execution_count": 6,
     "metadata": {},
     "output_type": "execute_result"
    }
   ],
   "source": [
    "# check if there is any missing value\n",
    "vehicles_data.isna().sum()"
   ]
  },
  {
   "cell_type": "markdown",
   "id": "5a756361",
   "metadata": {},
   "source": [
    "As we can see there are 1072 missing color information and 536 missing age(of car) information."
   ]
  },
  {
   "cell_type": "code",
   "execution_count": 7,
   "id": "80616e64",
   "metadata": {},
   "outputs": [
    {
     "data": {
      "text/plain": [
       "0.009460106241542926"
      ]
     },
     "execution_count": 7,
     "metadata": {},
     "output_type": "execute_result"
    }
   ],
   "source": [
    "# percentage of raw includes missing value out of total data.\n",
    "vehicles_data[vehicles_data['color'].isna() | vehicles_data['age'].isna()].shape[0] / vehicles_data.shape[0]"
   ]
  },
  {
   "cell_type": "code",
   "execution_count": 8,
   "id": "21a8470c",
   "metadata": {},
   "outputs": [
    {
     "data": {
      "text/html": [
       "<div>\n",
       "<style scoped>\n",
       "    .dataframe tbody tr th:only-of-type {\n",
       "        vertical-align: middle;\n",
       "    }\n",
       "\n",
       "    .dataframe tbody tr th {\n",
       "        vertical-align: top;\n",
       "    }\n",
       "\n",
       "    .dataframe thead th {\n",
       "        text-align: right;\n",
       "    }\n",
       "</style>\n",
       "<table border=\"1\" class=\"dataframe\">\n",
       "  <thead>\n",
       "    <tr style=\"text-align: right;\">\n",
       "      <th></th>\n",
       "      <th>policy_id</th>\n",
       "      <th>car_no</th>\n",
       "      <th>ownership_type</th>\n",
       "      <th>color</th>\n",
       "      <th>age</th>\n",
       "      <th>make_model</th>\n",
       "    </tr>\n",
       "  </thead>\n",
       "  <tbody>\n",
       "    <tr>\n",
       "      <th>77</th>\n",
       "      <td>policy_77901</td>\n",
       "      <td>3</td>\n",
       "      <td>owned</td>\n",
       "      <td>NaN</td>\n",
       "      <td>4.0</td>\n",
       "      <td>BMW : 535D</td>\n",
       "    </tr>\n",
       "    <tr>\n",
       "      <th>245</th>\n",
       "      <td>policy_37794</td>\n",
       "      <td>3</td>\n",
       "      <td>owned</td>\n",
       "      <td>NaN</td>\n",
       "      <td>7.0</td>\n",
       "      <td>ACURA : RL</td>\n",
       "    </tr>\n",
       "    <tr>\n",
       "      <th>515</th>\n",
       "      <td>policy_60534</td>\n",
       "      <td>4</td>\n",
       "      <td>owned</td>\n",
       "      <td>NaN</td>\n",
       "      <td>2.0</td>\n",
       "      <td>MERCEDES-BENZ : ML63 AMG</td>\n",
       "    </tr>\n",
       "    <tr>\n",
       "      <th>577</th>\n",
       "      <td>policy_36358</td>\n",
       "      <td>1</td>\n",
       "      <td>loaned</td>\n",
       "      <td>NaN</td>\n",
       "      <td>7.0</td>\n",
       "      <td>MERCEDES-BENZ : SL600</td>\n",
       "    </tr>\n",
       "    <tr>\n",
       "      <th>637</th>\n",
       "      <td>policy_14342</td>\n",
       "      <td>2</td>\n",
       "      <td>owned</td>\n",
       "      <td>NaN</td>\n",
       "      <td>9.0</td>\n",
       "      <td>BMW : 135I</td>\n",
       "    </tr>\n",
       "    <tr>\n",
       "      <th>...</th>\n",
       "      <td>...</td>\n",
       "      <td>...</td>\n",
       "      <td>...</td>\n",
       "      <td>...</td>\n",
       "      <td>...</td>\n",
       "      <td>...</td>\n",
       "    </tr>\n",
       "    <tr>\n",
       "      <th>168116</th>\n",
       "      <td>policy_29878</td>\n",
       "      <td>3</td>\n",
       "      <td>leased</td>\n",
       "      <td>NaN</td>\n",
       "      <td>7.0</td>\n",
       "      <td>FORD : GRAND MARQUIS</td>\n",
       "    </tr>\n",
       "    <tr>\n",
       "      <th>168174</th>\n",
       "      <td>policy_38226</td>\n",
       "      <td>2</td>\n",
       "      <td>owned</td>\n",
       "      <td>NaN</td>\n",
       "      <td>4.0</td>\n",
       "      <td>FORD : EXPLORER SPORT TRAC</td>\n",
       "    </tr>\n",
       "    <tr>\n",
       "      <th>168341</th>\n",
       "      <td>policy_30342</td>\n",
       "      <td>1</td>\n",
       "      <td>owned</td>\n",
       "      <td>NaN</td>\n",
       "      <td>4.0</td>\n",
       "      <td>FORD : LOBO</td>\n",
       "    </tr>\n",
       "    <tr>\n",
       "      <th>168342</th>\n",
       "      <td>policy_58543</td>\n",
       "      <td>1</td>\n",
       "      <td>owned</td>\n",
       "      <td>NaN</td>\n",
       "      <td>7.0</td>\n",
       "      <td>HONDA : ODYSSEY</td>\n",
       "    </tr>\n",
       "    <tr>\n",
       "      <th>169111</th>\n",
       "      <td>policy_74020</td>\n",
       "      <td>3</td>\n",
       "      <td>owned</td>\n",
       "      <td>NaN</td>\n",
       "      <td>4.0</td>\n",
       "      <td>BUICK : ENCORE</td>\n",
       "    </tr>\n",
       "  </tbody>\n",
       "</table>\n",
       "<p>1072 rows × 6 columns</p>\n",
       "</div>"
      ],
      "text/plain": [
       "           policy_id  car_no ownership_type color  age  \\\n",
       "77      policy_77901       3          owned   NaN  4.0   \n",
       "245     policy_37794       3          owned   NaN  7.0   \n",
       "515     policy_60534       4          owned   NaN  2.0   \n",
       "577     policy_36358       1         loaned   NaN  7.0   \n",
       "637     policy_14342       2          owned   NaN  9.0   \n",
       "...              ...     ...            ...   ...  ...   \n",
       "168116  policy_29878       3         leased   NaN  7.0   \n",
       "168174  policy_38226       2          owned   NaN  4.0   \n",
       "168341  policy_30342       1          owned   NaN  4.0   \n",
       "168342  policy_58543       1          owned   NaN  7.0   \n",
       "169111  policy_74020       3          owned   NaN  4.0   \n",
       "\n",
       "                        make_model  \n",
       "77                      BMW : 535D  \n",
       "245                     ACURA : RL  \n",
       "515       MERCEDES-BENZ : ML63 AMG  \n",
       "577          MERCEDES-BENZ : SL600  \n",
       "637                     BMW : 135I  \n",
       "...                            ...  \n",
       "168116        FORD : GRAND MARQUIS  \n",
       "168174  FORD : EXPLORER SPORT TRAC  \n",
       "168341                 FORD : LOBO  \n",
       "168342             HONDA : ODYSSEY  \n",
       "169111              BUICK : ENCORE  \n",
       "\n",
       "[1072 rows x 6 columns]"
      ]
     },
     "execution_count": 8,
     "metadata": {},
     "output_type": "execute_result"
    }
   ],
   "source": [
    "# data that includes missing value. (1072 samples)\n",
    "vehicles_data[vehicles_data['color'].isna()]"
   ]
  },
  {
   "cell_type": "markdown",
   "id": "40958201",
   "metadata": {},
   "source": [
    "Percentage of raws including missing value is approximately 0.95% out of total.\n",
    "\n",
    "How we can deal with those?\n",
    "\n",
    "1. simply deleting raws including any missing value.\n",
    "2. imputation using mean, median or mod.\n",
    "\n",
    "For missing color information, we can observe what it the model of car because there is no any missing vlaue for the make_model column."
   ]
  },
  {
   "cell_type": "code",
   "execution_count": 9,
   "id": "52becd6b",
   "metadata": {},
   "outputs": [],
   "source": [
    "# number of samples do not have color information.\n",
    "list_missing_color_cars = list(vehicles_data[vehicles_data['color'].isna()==True]['make_model'].unique())"
   ]
  },
  {
   "cell_type": "code",
   "execution_count": 10,
   "id": "d2f77405",
   "metadata": {},
   "outputs": [],
   "source": [
    "# imputation using mod of color of each car type\n",
    "dict_mod_colors = {}\n",
    "for i in list_missing_color_cars:\n",
    "    dict_mod_colors[i] = vehicles_data[vehicles_data['make_model']==i]['color'].value_counts().index.tolist()[0]\n",
    "    \n",
    "for i in range(len(vehicles_data)):\n",
    "    \n",
    "    if type(vehicles_data.loc[i]['color'])==float:\n",
    "        \n",
    "        vehicles_data.loc[i, ('color')]=dict_mod_colors[vehicles_data.loc[i]['make_model']]"
   ]
  },
  {
   "cell_type": "code",
   "execution_count": 11,
   "id": "6b64a9d0",
   "metadata": {},
   "outputs": [
    {
     "data": {
      "text/plain": [
       "policy_id           0\n",
       "car_no              0\n",
       "ownership_type      0\n",
       "color               0\n",
       "age               536\n",
       "make_model          0\n",
       "dtype: int64"
      ]
     },
     "execution_count": 11,
     "metadata": {},
     "output_type": "execute_result"
    }
   ],
   "source": [
    "# now we don't have any missing color data\n",
    "vehicles_data.isna().sum()"
   ]
  },
  {
   "cell_type": "code",
   "execution_count": 12,
   "id": "6fef95c9",
   "metadata": {},
   "outputs": [],
   "source": [
    "# imputation using mean of age\n",
    "vehicles_data = vehicles_data.fillna(vehicles_data.mean()['age'])"
   ]
  },
  {
   "cell_type": "code",
   "execution_count": 13,
   "id": "c4b6019e",
   "metadata": {},
   "outputs": [
    {
     "data": {
      "text/plain": [
       "policy_id         0\n",
       "car_no            0\n",
       "ownership_type    0\n",
       "color             0\n",
       "age               0\n",
       "make_model        0\n",
       "dtype: int64"
      ]
     },
     "execution_count": 13,
     "metadata": {},
     "output_type": "execute_result"
    }
   ],
   "source": [
    "# no missing value\n",
    "vehicles_data.isna().sum()"
   ]
  },
  {
   "cell_type": "code",
   "execution_count": 14,
   "id": "a4c6d9ba",
   "metadata": {},
   "outputs": [
    {
     "data": {
      "image/png": "[encoded data removed]",
      "text/plain": [
       "<Figure size 640x480 with 3 Axes>"
      ]
     },
     "metadata": {},
     "output_type": "display_data"
    }
   ],
   "source": [
    "plt.rc('font', size=9)  \n",
    "plt.subplots_adjust(right=1)\n",
    "\n",
    "\n",
    "plt.subplot(221)\n",
    "vehicles_data.ownership_type.value_counts(normalize=True).plot.pie()\n",
    "\n",
    "plt.subplot(222)\n",
    "vehicles_data.color.value_counts(normalize=True).plot.pie()\n",
    "\n",
    "plt.subplot(223)\n",
    "vehicles_data.age.value_counts(normalize=True).plot.barh()\n",
    "\n",
    "plt.show()"
   ]
  },
  {
   "cell_type": "code",
   "execution_count": 15,
   "id": "669de926",
   "metadata": {},
   "outputs": [
    {
     "data": {
      "text/plain": [
       "count    169237.000000\n",
       "mean          2.485231\n",
       "std           1.345593\n",
       "min           1.000000\n",
       "25%           1.000000\n",
       "50%           2.000000\n",
       "75%           3.000000\n",
       "max           8.000000\n",
       "Name: car_no, dtype: float64"
      ]
     },
     "execution_count": 15,
     "metadata": {},
     "output_type": "execute_result"
    }
   ],
   "source": [
    "vehicles_data.car_no.describe()"
   ]
  },
  {
   "cell_type": "code",
   "execution_count": 16,
   "id": "09d0ed2c",
   "metadata": {},
   "outputs": [
    {
     "data": {
      "text/plain": [
       "count    169237.000000\n",
       "mean          5.000883\n",
       "std           2.244886\n",
       "min           0.000000\n",
       "25%           3.000000\n",
       "50%           5.000000\n",
       "75%           6.000000\n",
       "max          16.000000\n",
       "Name: age, dtype: float64"
      ]
     },
     "execution_count": 16,
     "metadata": {},
     "output_type": "execute_result"
    }
   ],
   "source": [
    "vehicles_data.age.describe()"
   ]
  },
  {
   "cell_type": "code",
   "execution_count": 17,
   "id": "aec718f7",
   "metadata": {},
   "outputs": [
    {
     "data": {
      "text/plain": [
       "<seaborn.axisgrid.PairGrid at 0x7fdd180c79a0>"
      ]
     },
     "execution_count": 17,
     "metadata": {},
     "output_type": "execute_result"
    },
    {
     "data": {
      "image/png": "[encoded data removed]",
      "text/plain": [
       "<Figure size 1000x1000 with 20 Axes>"
      ]
     },
     "metadata": {},
     "output_type": "display_data"
    }
   ],
   "source": [
    "sns.pairplot(data=vehicles_data, vars=['car_no', 'ownership_type', 'color', 'age'])"
   ]
  },
  {
   "cell_type": "code",
   "execution_count": 18,
   "id": "ffbae9d1",
   "metadata": {},
   "outputs": [
    {
     "data": {
      "image/png": "[encoded data removed]",
      "text/plain": [
       "<Figure size 640x480 with 2 Axes>"
      ]
     },
     "metadata": {},
     "output_type": "display_data"
    }
   ],
   "source": [
    "sns.heatmap(vehicles_data[['age', 'car_no']].corr(), annot=True, cmap = 'Reds')\n",
    "plt.show()"
   ]
  },
  {
   "cell_type": "code",
   "execution_count": 19,
   "id": "ef598188",
   "metadata": {},
   "outputs": [],
   "source": [
    "# for i in list(vehicles_data.groupby('policy_id')['car_no'].max()):\n",
    "#     print(i, list(vehicles_data.groupby('policy_id')['car_no'].max()).count(i))"
   ]
  },
  {
   "cell_type": "code",
   "execution_count": 20,
   "id": "4e8a9dd8",
   "metadata": {},
   "outputs": [
    {
     "data": {
      "text/plain": [
       "policy_id\n",
       "policy_100      6\n",
       "policy_1000     2\n",
       "policy_10001    2\n",
       "policy_10002    5\n",
       "policy_10004    2\n",
       "               ..\n",
       "policy_99994    4\n",
       "policy_99996    4\n",
       "policy_99997    4\n",
       "policy_99998    1\n",
       "policy_99999    6\n",
       "Name: car_no, Length: 49162, dtype: int64"
      ]
     },
     "execution_count": 20,
     "metadata": {},
     "output_type": "execute_result"
    }
   ],
   "source": [
    "vehicles_data.groupby('policy_id')['car_no'].max()"
   ]
  },
  {
   "cell_type": "code",
   "execution_count": 21,
   "id": "08680ee1",
   "metadata": {},
   "outputs": [],
   "source": [
    "# temp includes number of cards included in each policy\n",
    "temp = list(vehicles_data.groupby('policy_id')['car_no'].max())"
   ]
  },
  {
   "cell_type": "code",
   "execution_count": 22,
   "id": "ab6d8974",
   "metadata": {},
   "outputs": [
    {
     "name": "stdout",
     "output_type": "stream",
     "text": [
      "                  0\n",
      "count  49162.000000\n",
      "mean       3.442435\n",
      "std        1.348233\n",
      "min        1.000000\n",
      "25%        2.000000\n",
      "50%        3.000000\n",
      "75%        4.000000\n",
      "max        8.000000\n"
     ]
    },
    {
     "data": {
      "image/png": "[encoded data removed]",
      "text/plain": [
       "<Figure size 640x480 with 1 Axes>"
      ]
     },
     "metadata": {},
     "output_type": "display_data"
    }
   ],
   "source": [
    "# statistics of the number of cars in each policy.\n",
    "print(pd.DataFrame(temp).describe())\n",
    "\n",
    "plt.hist(temp)\n",
    "plt.show()"
   ]
  }
 ],
 "metadata": {
  "kernelspec": {
   "display_name": "Python 3 (ipykernel)",
   "language": "python",
   "name": "python3"
  },
  "language_info": {
   "codemirror_mode": {
    "name": "ipython",
    "version": 3
   },
   "file_extension": ".py",
   "mimetype": "text/x-python",
   "name": "python",
   "nbconvert_exporter": "python",
   "pygments_lexer": "ipython3",
   "version": "3.9.12"
  }
 },
 "nbformat": 4,
 "nbformat_minor": 5
}
