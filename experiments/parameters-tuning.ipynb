{
 "cells": [
  {
   "cell_type": "code",
   "execution_count": 4,
   "id": "2081ef7f",
   "metadata": {},
   "outputs": [],
   "source": [
    "import os\n",
    "os.environ['KMP_DUPLICATE_LIB_OK']='True'\n",
    "\n",
    "import pandas as pd\n",
    "import re\n",
    "\n",
    "import numpy as np\n",
    "\n",
    "from sklearn.model_selection import train_test_split, RandomizedSearchCV\n",
    "from xgboost import XGBClassifier\n",
    "from sklearn import metrics\n",
    "from sklearn.metrics import roc_auc_score\n",
    "\n",
    "import json\n",
    "import warnings\n",
    "\n",
    "import numpy as np\n",
    "import pandas as pd\n",
    "\n",
    "from category_encoders import OrdinalEncoder\n",
    "from sklearn import metrics\n",
    "from sklearn.pipeline import make_pipeline\n",
    "from sklearn.ensemble import RandomForestClassifier\n",
    "from sklearn.model_selection import train_test_split, RandomizedSearchCV\n",
    "from sklearn.svm import SVC\n",
    "from scipy.stats import uniform\n",
    "from sklearn.metrics import f1_score, accuracy_score\n",
    "\n",
    "import matplotlib.pyplot as plt"
   ]
  },
  {
   "cell_type": "code",
   "execution_count": 5,
   "id": "1eec4c35",
   "metadata": {},
   "outputs": [
    {
     "data": {
      "text/plain": [
       "n_safty_rating      0\n",
       "discount            0\n",
       "Home_policy_ind     0\n",
       "df_prior_carrier    0\n",
       "df_cov_package      0\n",
       "df_cat_zone         0\n",
       "number_drivers      0\n",
       "num_loaned_veh      0\n",
       "num_owned_veh       0\n",
       "num_leased_veh      0\n",
       "driver_age          0\n",
       "freq_agent          0\n",
       "lon                 0\n",
       "lat                 0\n",
       "quoted_amt          0\n",
       "credit_score        0\n",
       "convert_ind         0\n",
       "dtype: int64"
      ]
     },
     "execution_count": 5,
     "metadata": {},
     "output_type": "execute_result"
    }
   ],
   "source": [
    "df_train=pd.read_csv('./train_full1.csv')\n",
    "df_train=df_train.drop(['Unnamed: 0','X','policy_id'],axis='columns')\n",
    "df_train\n",
    "df_train.isna().sum()"
   ]
  },
  {
   "cell_type": "code",
   "execution_count": 6,
   "id": "0c3b0944",
   "metadata": {},
   "outputs": [
    {
     "data": {
      "text/plain": [
       "n_safty_rating      0\n",
       "discount            0\n",
       "Home_policy_ind     0\n",
       "df_prior_carrier    0\n",
       "df_cov_package      0\n",
       "df_cat_zone         0\n",
       "number_drivers      0\n",
       "num_loaned_veh      0\n",
       "num_owned_veh       0\n",
       "num_leased_veh      0\n",
       "driver_age          0\n",
       "freq_agent          0\n",
       "lon                 0\n",
       "lat                 0\n",
       "quoted_amt          0\n",
       "credit_score        0\n",
       "convert_ind         0\n",
       "dtype: int64"
      ]
     },
     "execution_count": 6,
     "metadata": {},
     "output_type": "execute_result"
    }
   ],
   "source": [
    "df_train.isna().sum()"
   ]
  },
  {
   "cell_type": "code",
   "execution_count": 7,
   "id": "a1e7b1e7",
   "metadata": {},
   "outputs": [
    {
     "data": {
      "text/plain": [
       "n_safty_rating      0\n",
       "discount            0\n",
       "Home_policy_ind     0\n",
       "df_prior_carrier    0\n",
       "df_cov_package      0\n",
       "df_cat_zone         0\n",
       "number_drivers      0\n",
       "num_loaned_veh      0\n",
       "num_owned_veh       0\n",
       "num_leased_veh      0\n",
       "driver_age          0\n",
       "freq_agent          0\n",
       "lon                 0\n",
       "lat                 0\n",
       "quoted_amt          0\n",
       "credit_score        0\n",
       "dtype: int64"
      ]
     },
     "execution_count": 7,
     "metadata": {},
     "output_type": "execute_result"
    }
   ],
   "source": [
    "df_test=pd.read_csv('./test_full1.csv')\n",
    "df_test=df_test.drop(['Unnamed: 0','X','policy_id','convert_ind'],axis='columns')\n",
    "df_test\n",
    "df_test.isna().sum()\n"
   ]
  },
  {
   "cell_type": "code",
   "execution_count": null,
   "id": "4e8fa8f2",
   "metadata": {},
   "outputs": [],
   "source": []
  },
  {
   "cell_type": "code",
   "execution_count": 6,
   "id": "992bac39",
   "metadata": {},
   "outputs": [
    {
     "data": {
      "text/plain": [
       "12291"
      ]
     },
     "execution_count": 6,
     "metadata": {},
     "output_type": "execute_result"
    }
   ],
   "source": [
    "len(df_test)"
   ]
  },
  {
   "cell_type": "code",
   "execution_count": 8,
   "id": "4ded93c1",
   "metadata": {},
   "outputs": [],
   "source": [
    "df_train=df_train.drop(np.where(df_train.isna())[0],axis=\"rows\")\n",
    "df_train=df_train.reset_index()\n",
    "\n",
    "df_test=df_test.drop(np.where(df_test.isna())[0],axis=\"rows\")\n",
    "df_test=df_test.reset_index()"
   ]
  },
  {
   "cell_type": "code",
   "execution_count": 9,
   "id": "33c57693",
   "metadata": {},
   "outputs": [],
   "source": [
    "x_train = df_train.drop(['convert_ind'], axis='columns')\n",
    "y_train = df_train['convert_ind']\n",
    "x = np.asarray(x_train)\n",
    "y = np.asarray(y_train)\n",
    "\n",
    "\n",
    "x_train_train, x_train_test, y_train_train, y_train_test = train_test_split(x, y, test_size=0.2, random_state=42)\n"
   ]
  },
  {
   "cell_type": "code",
   "execution_count": 17,
   "id": "be55e469",
   "metadata": {},
   "outputs": [],
   "source": [
    "model = XGBClassifier(random_state=42, scale_pos_weight=8, eval_metric='auc')\n",
    "model.fit(x_train_train, y_train_train)\n",
    "\n",
    "result = model.predict_proba(x_train_test)"
   ]
  },
  {
   "cell_type": "code",
   "execution_count": 18,
   "id": "89c8d3e7",
   "metadata": {},
   "outputs": [
    {
     "data": {
      "text/plain": [
       "0.6965617468254677"
      ]
     },
     "execution_count": 18,
     "metadata": {},
     "output_type": "execute_result"
    }
   ],
   "source": [
    "(model.predict(x_train_train))-y_train_train\n",
    "roc_auc_score(model.predict(x_train_train),y_train_train)"
   ]
  },
  {
   "cell_type": "code",
   "execution_count": 22,
   "id": "12238bfd",
   "metadata": {},
   "outputs": [
    {
     "data": {
      "text/plain": [
       "12291"
      ]
     },
     "execution_count": 22,
     "metadata": {},
     "output_type": "execute_result"
    }
   ],
   "source": [
    "len(model.predict(df_test))"
   ]
  },
  {
   "cell_type": "markdown",
   "id": "28db7acd",
   "metadata": {},
   "source": [
    "## Cross validation"
   ]
  },
  {
   "cell_type": "code",
   "execution_count": 10,
   "id": "f4bb939c",
   "metadata": {},
   "outputs": [],
   "source": [
    "from sklearn.linear_model import LogisticRegression\n",
    "from sklearn.ensemble import RandomForestClassifier\n",
    "from catboost import CatBoostClassifier"
   ]
  },
  {
   "cell_type": "code",
   "execution_count": 25,
   "id": "7f06eba8",
   "metadata": {},
   "outputs": [
    {
     "name": "stdout",
     "output_type": "stream",
     "text": [
      "0\n",
      "1\n",
      "2\n",
      "3\n",
      "4\n"
     ]
    },
    {
     "data": {
      "text/plain": [
       "0.5603665775108646"
      ]
     },
     "execution_count": 25,
     "metadata": {},
     "output_type": "execute_result"
    }
   ],
   "source": [
    "ind=np.random.randint(low=0,high=5,size=len(x_train))\n",
    "auc=[]\n",
    "for i in range(5):\n",
    "    print(i)\n",
    "    x_train_test=np.asarray(x_train.iloc[np.where(ind==i)[0]])\n",
    "    x_train_train=np.asarray(x_train.iloc[np.where(ind!=i)[0]])\n",
    "    y_train_test=np.asarray(y_train.iloc[np.where(ind==i)[0]])\n",
    "    y_train_train=np.asarray(y_train.iloc[np.where(ind!=i)[0]])\n",
    "    model = XGBClassifier(reg_alpha=2,reg_lambda=1,colsample_bytree=0.9,gamma=0.1,random_state=30, scale_pos_weight=4.5, eval_metric='auc',max_depth=3,learning_rate=0.1,n_estimators=200,min_child_weight=2.3,subsample=0.7)\n",
    "    #model=LogisticRegression(penalty=\"l1\",class_weight=\"balanced\",solver=\"liblinear\")\n",
    "    #model=RandomForestClassifier(class_weight=\"balanced\",max_depth=14,n_estimators=50,max_features=7,min_samples_leaf=1)\n",
    "    #model=CatBoostClassifier(loss_function=\"CrossEntropy\",eval_metric='AUC',depth=8)\n",
    "    model.fit(x_train_train, y_train_train)\n",
    "    auc.append(roc_auc_score(model.predict(x_train_test),y_train_test))\n",
    "    \n",
    "np.mean(auc)"
   ]
  },
  {
   "cell_type": "code",
   "execution_count": 276,
   "id": "308ba2bc",
   "metadata": {},
   "outputs": [
    {
     "data": {
      "text/plain": [
       "XGBClassifier(base_score=0.5, booster='gbtree', callbacks=None,\n",
       "              colsample_bylevel=1, colsample_bynode=1, colsample_bytree=0.9,\n",
       "              early_stopping_rounds=None, enable_categorical=False,\n",
       "              eval_metric='auc', feature_types=None, gamma=0.1, gpu_id=-1,\n",
       "              grow_policy='depthwise', importance_type=None,\n",
       "              interaction_constraints='', learning_rate=0.1, max_bin=256,\n",
       "              max_cat_threshold=64, max_cat_to_onehot=4, max_delta_step=0,\n",
       "              max_depth=3, max_leaves=0, min_child_weight=2.3, missing=nan,\n",
       "              monotone_constraints='()', n_estimators=240, n_jobs=0,\n",
       "              num_parallel_tree=1, predictor='auto', random_state=42, ...)"
      ]
     },
     "execution_count": 276,
     "metadata": {},
     "output_type": "execute_result"
    }
   ],
   "source": [
    "model = XGBClassifier(reg_alpha=2,reg_lambda=1,colsample_bytree=0.9,gamma=0.1,random_state=42, scale_pos_weight=4.5, eval_metric='auc',max_depth=3,learning_rate=0.1,n_estimators=240,min_child_weight=2.3,subsample=0.7)\n",
    "model.fit(x,y)"
   ]
  },
  {
   "cell_type": "code",
   "execution_count": 23,
   "id": "7af8031f",
   "metadata": {},
   "outputs": [
    {
     "data": {
      "text/plain": [
       "0.00040680172483931334"
      ]
     },
     "execution_count": 23,
     "metadata": {},
     "output_type": "execute_result"
    }
   ],
   "source": [
    "sum(model.predict(np.asarray(df_test)))/len(df_test)"
   ]
  },
  {
   "cell_type": "code",
   "execution_count": 19,
   "id": "fd5f6a2b",
   "metadata": {},
   "outputs": [
    {
     "data": {
      "text/plain": [
       "0.11174093460985599"
      ]
     },
     "execution_count": 19,
     "metadata": {},
     "output_type": "execute_result"
    }
   ],
   "source": [
    "sum(y_train)/len(y)"
   ]
  }
 ],
 "metadata": {
  "kernelspec": {
   "display_name": "Python 3 (ipykernel)",
   "language": "python",
   "name": "python3"
  },
  "language_info": {
   "codemirror_mode": {
    "name": "ipython",
    "version": 3
   },
   "file_extension": ".py",
   "mimetype": "text/x-python",
   "name": "python",
   "nbconvert_exporter": "python",
   "pygments_lexer": "ipython3",
   "version": "3.9.12"
  }
 },
 "nbformat": 4,
 "nbformat_minor": 5
}
