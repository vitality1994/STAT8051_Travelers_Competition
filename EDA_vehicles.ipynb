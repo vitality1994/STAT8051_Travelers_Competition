{
 "cells": [
  {
   "cell_type": "code",
   "execution_count": 1,
   "id": "33183a53",
   "metadata": {},
   "outputs": [],
   "source": [
    "import numpy as np\n",
    "import pandas as pd\n",
    "import seaborn as sns\n",
    "import matplotlib.pyplot as plt\n",
    "\n",
    "import warnings\n",
    "warnings.filterwarnings(action='ignore')\n"
   ]
  },
  {
   "cell_type": "code",
   "execution_count": null,
   "id": "2370bb0f",
   "metadata": {},
   "outputs": [],
   "source": []
  },
  {
   "cell_type": "code",
   "execution_count": 2,
   "id": "85dc3b80",
   "metadata": {},
   "outputs": [],
   "source": [
    "# Read vehicles.csv\n",
    "vehicles_data = pd.read_csv('./vehicles.csv')"
   ]
  },
  {
   "cell_type": "code",
   "execution_count": 3,
   "id": "a3ab135c",
   "metadata": {},
   "outputs": [
    {
     "data": {
      "text/html": [
       "<div>\n",
       "<style scoped>\n",
       "    .dataframe tbody tr th:only-of-type {\n",
       "        vertical-align: middle;\n",
       "    }\n",
       "\n",
       "    .dataframe tbody tr th {\n",
       "        vertical-align: top;\n",
       "    }\n",
       "\n",
       "    .dataframe thead th {\n",
       "        text-align: right;\n",
       "    }\n",
       "</style>\n",
       "<table border=\"1\" class=\"dataframe\">\n",
       "  <thead>\n",
       "    <tr style=\"text-align: right;\">\n",
       "      <th></th>\n",
       "      <th>Unnamed: 0</th>\n",
       "      <th>policy_id</th>\n",
       "      <th>car_no</th>\n",
       "      <th>ownership_type</th>\n",
       "      <th>color</th>\n",
       "      <th>age</th>\n",
       "      <th>make_model</th>\n",
       "    </tr>\n",
       "  </thead>\n",
       "  <tbody>\n",
       "    <tr>\n",
       "      <th>0</th>\n",
       "      <td>6</td>\n",
       "      <td>policy_74571</td>\n",
       "      <td>1</td>\n",
       "      <td>leased</td>\n",
       "      <td>other</td>\n",
       "      <td>4.0</td>\n",
       "      <td>BMW : R1200CL</td>\n",
       "    </tr>\n",
       "    <tr>\n",
       "      <th>1</th>\n",
       "      <td>7</td>\n",
       "      <td>policy_74571</td>\n",
       "      <td>2</td>\n",
       "      <td>owned</td>\n",
       "      <td>blue</td>\n",
       "      <td>3.0</td>\n",
       "      <td>ACURA : TL</td>\n",
       "    </tr>\n",
       "    <tr>\n",
       "      <th>2</th>\n",
       "      <td>15</td>\n",
       "      <td>policy_1998</td>\n",
       "      <td>1</td>\n",
       "      <td>owned</td>\n",
       "      <td>gray</td>\n",
       "      <td>7.0</td>\n",
       "      <td>BMW : 750LI</td>\n",
       "    </tr>\n",
       "    <tr>\n",
       "      <th>3</th>\n",
       "      <td>29</td>\n",
       "      <td>policy_28085</td>\n",
       "      <td>1</td>\n",
       "      <td>owned</td>\n",
       "      <td>gray</td>\n",
       "      <td>4.0</td>\n",
       "      <td>MERCEDES-BENZ : G55 AMG</td>\n",
       "    </tr>\n",
       "    <tr>\n",
       "      <th>4</th>\n",
       "      <td>34</td>\n",
       "      <td>policy_64282</td>\n",
       "      <td>1</td>\n",
       "      <td>owned</td>\n",
       "      <td>black</td>\n",
       "      <td>4.0</td>\n",
       "      <td>BMW : 550I GT</td>\n",
       "    </tr>\n",
       "    <tr>\n",
       "      <th>...</th>\n",
       "      <td>...</td>\n",
       "      <td>...</td>\n",
       "      <td>...</td>\n",
       "      <td>...</td>\n",
       "      <td>...</td>\n",
       "      <td>...</td>\n",
       "      <td>...</td>\n",
       "    </tr>\n",
       "    <tr>\n",
       "      <th>169232</th>\n",
       "      <td>345054</td>\n",
       "      <td>policy_34204</td>\n",
       "      <td>4</td>\n",
       "      <td>owned</td>\n",
       "      <td>gray</td>\n",
       "      <td>6.0</td>\n",
       "      <td>TOYOTA : RAV4</td>\n",
       "    </tr>\n",
       "    <tr>\n",
       "      <th>169233</th>\n",
       "      <td>345055</td>\n",
       "      <td>policy_34204</td>\n",
       "      <td>5</td>\n",
       "      <td>loaned</td>\n",
       "      <td>black</td>\n",
       "      <td>8.0</td>\n",
       "      <td>GMC : SIERRA 1500</td>\n",
       "    </tr>\n",
       "    <tr>\n",
       "      <th>169234</th>\n",
       "      <td>345060</td>\n",
       "      <td>policy_621</td>\n",
       "      <td>1</td>\n",
       "      <td>owned</td>\n",
       "      <td>other</td>\n",
       "      <td>6.0</td>\n",
       "      <td>DODGE : CHARGER</td>\n",
       "    </tr>\n",
       "    <tr>\n",
       "      <th>169235</th>\n",
       "      <td>345061</td>\n",
       "      <td>policy_621</td>\n",
       "      <td>2</td>\n",
       "      <td>owned</td>\n",
       "      <td>black</td>\n",
       "      <td>3.0</td>\n",
       "      <td>GMC : SAVANA 4500</td>\n",
       "    </tr>\n",
       "    <tr>\n",
       "      <th>169236</th>\n",
       "      <td>345062</td>\n",
       "      <td>policy_621</td>\n",
       "      <td>3</td>\n",
       "      <td>loaned</td>\n",
       "      <td>other</td>\n",
       "      <td>4.0</td>\n",
       "      <td>HONDA : CB900F 919</td>\n",
       "    </tr>\n",
       "  </tbody>\n",
       "</table>\n",
       "<p>169237 rows × 7 columns</p>\n",
       "</div>"
      ],
      "text/plain": [
       "        Unnamed: 0     policy_id  car_no ownership_type  color  age  \\\n",
       "0                6  policy_74571       1         leased  other  4.0   \n",
       "1                7  policy_74571       2          owned   blue  3.0   \n",
       "2               15   policy_1998       1          owned   gray  7.0   \n",
       "3               29  policy_28085       1          owned   gray  4.0   \n",
       "4               34  policy_64282       1          owned  black  4.0   \n",
       "...            ...           ...     ...            ...    ...  ...   \n",
       "169232      345054  policy_34204       4          owned   gray  6.0   \n",
       "169233      345055  policy_34204       5         loaned  black  8.0   \n",
       "169234      345060    policy_621       1          owned  other  6.0   \n",
       "169235      345061    policy_621       2          owned  black  3.0   \n",
       "169236      345062    policy_621       3         loaned  other  4.0   \n",
       "\n",
       "                     make_model  \n",
       "0                 BMW : R1200CL  \n",
       "1                    ACURA : TL  \n",
       "2                   BMW : 750LI  \n",
       "3       MERCEDES-BENZ : G55 AMG  \n",
       "4                 BMW : 550I GT  \n",
       "...                         ...  \n",
       "169232            TOYOTA : RAV4  \n",
       "169233        GMC : SIERRA 1500  \n",
       "169234          DODGE : CHARGER  \n",
       "169235        GMC : SAVANA 4500  \n",
       "169236       HONDA : CB900F 919  \n",
       "\n",
       "[169237 rows x 7 columns]"
      ]
     },
     "execution_count": 3,
     "metadata": {},
     "output_type": "execute_result"
    }
   ],
   "source": [
    "# Read data\n",
    "vehicles_data"
   ]
  },
  {
   "cell_type": "code",
   "execution_count": 4,
   "id": "ed6de438",
   "metadata": {},
   "outputs": [],
   "source": [
    "# delete the first column because there is no definition of the colum.\n",
    "\n",
    "vehicles_data.drop(['Unnamed: 0'], axis='columns', inplace=True)"
   ]
  },
  {
   "cell_type": "code",
   "execution_count": 5,
   "id": "99decb91",
   "metadata": {},
   "outputs": [
    {
     "data": {
      "text/html": [
       "<div>\n",
       "<style scoped>\n",
       "    .dataframe tbody tr th:only-of-type {\n",
       "        vertical-align: middle;\n",
       "    }\n",
       "\n",
       "    .dataframe tbody tr th {\n",
       "        vertical-align: top;\n",
       "    }\n",
       "\n",
       "    .dataframe thead th {\n",
       "        text-align: right;\n",
       "    }\n",
       "</style>\n",
       "<table border=\"1\" class=\"dataframe\">\n",
       "  <thead>\n",
       "    <tr style=\"text-align: right;\">\n",
       "      <th></th>\n",
       "      <th>policy_id</th>\n",
       "      <th>car_no</th>\n",
       "      <th>ownership_type</th>\n",
       "      <th>color</th>\n",
       "      <th>age</th>\n",
       "      <th>make_model</th>\n",
       "    </tr>\n",
       "  </thead>\n",
       "  <tbody>\n",
       "    <tr>\n",
       "      <th>0</th>\n",
       "      <td>policy_74571</td>\n",
       "      <td>1</td>\n",
       "      <td>leased</td>\n",
       "      <td>other</td>\n",
       "      <td>4.0</td>\n",
       "      <td>BMW : R1200CL</td>\n",
       "    </tr>\n",
       "    <tr>\n",
       "      <th>1</th>\n",
       "      <td>policy_74571</td>\n",
       "      <td>2</td>\n",
       "      <td>owned</td>\n",
       "      <td>blue</td>\n",
       "      <td>3.0</td>\n",
       "      <td>ACURA : TL</td>\n",
       "    </tr>\n",
       "    <tr>\n",
       "      <th>2</th>\n",
       "      <td>policy_1998</td>\n",
       "      <td>1</td>\n",
       "      <td>owned</td>\n",
       "      <td>gray</td>\n",
       "      <td>7.0</td>\n",
       "      <td>BMW : 750LI</td>\n",
       "    </tr>\n",
       "    <tr>\n",
       "      <th>3</th>\n",
       "      <td>policy_28085</td>\n",
       "      <td>1</td>\n",
       "      <td>owned</td>\n",
       "      <td>gray</td>\n",
       "      <td>4.0</td>\n",
       "      <td>MERCEDES-BENZ : G55 AMG</td>\n",
       "    </tr>\n",
       "    <tr>\n",
       "      <th>4</th>\n",
       "      <td>policy_64282</td>\n",
       "      <td>1</td>\n",
       "      <td>owned</td>\n",
       "      <td>black</td>\n",
       "      <td>4.0</td>\n",
       "      <td>BMW : 550I GT</td>\n",
       "    </tr>\n",
       "  </tbody>\n",
       "</table>\n",
       "</div>"
      ],
      "text/plain": [
       "      policy_id  car_no ownership_type  color  age               make_model\n",
       "0  policy_74571       1         leased  other  4.0            BMW : R1200CL\n",
       "1  policy_74571       2          owned   blue  3.0               ACURA : TL\n",
       "2   policy_1998       1          owned   gray  7.0              BMW : 750LI\n",
       "3  policy_28085       1          owned   gray  4.0  MERCEDES-BENZ : G55 AMG\n",
       "4  policy_64282       1          owned  black  4.0            BMW : 550I GT"
      ]
     },
     "execution_count": 5,
     "metadata": {},
     "output_type": "execute_result"
    }
   ],
   "source": [
    "vehicles_data.head()"
   ]
  },
  {
   "cell_type": "code",
   "execution_count": 6,
   "id": "165aecb5",
   "metadata": {},
   "outputs": [
    {
     "data": {
      "text/plain": [
       "policy_id            0\n",
       "car_no               0\n",
       "ownership_type       0\n",
       "color             1072\n",
       "age                536\n",
       "make_model           0\n",
       "dtype: int64"
      ]
     },
     "execution_count": 6,
     "metadata": {},
     "output_type": "execute_result"
    }
   ],
   "source": [
    "# check if there is any missing value\n",
    "vehicles_data.isna().sum()"
   ]
  },
  {
   "cell_type": "markdown",
   "id": "86635416",
   "metadata": {},
   "source": [
    "As we can see there are 1072 missing color information and 536 missing age(of car) information."
   ]
  },
  {
   "cell_type": "code",
   "execution_count": 7,
   "id": "d631408a",
   "metadata": {},
   "outputs": [
    {
     "data": {
      "text/plain": [
       "0.009460106241542926"
      ]
     },
     "execution_count": 7,
     "metadata": {},
     "output_type": "execute_result"
    }
   ],
   "source": [
    "# percentage of raw includes missing value out of total data.\n",
    "vehicles_data[vehicles_data['color'].isna() | vehicles_data['age'].isna()].shape[0] / vehicles_data.shape[0]"
   ]
  },
  {
   "cell_type": "code",
   "execution_count": 8,
   "id": "e369928e",
   "metadata": {},
   "outputs": [
    {
     "data": {
      "text/html": [
       "<div>\n",
       "<style scoped>\n",
       "    .dataframe tbody tr th:only-of-type {\n",
       "        vertical-align: middle;\n",
       "    }\n",
       "\n",
       "    .dataframe tbody tr th {\n",
       "        vertical-align: top;\n",
       "    }\n",
       "\n",
       "    .dataframe thead th {\n",
       "        text-align: right;\n",
       "    }\n",
       "</style>\n",
       "<table border=\"1\" class=\"dataframe\">\n",
       "  <thead>\n",
       "    <tr style=\"text-align: right;\">\n",
       "      <th></th>\n",
       "      <th>policy_id</th>\n",
       "      <th>car_no</th>\n",
       "      <th>ownership_type</th>\n",
       "      <th>color</th>\n",
       "      <th>age</th>\n",
       "      <th>make_model</th>\n",
       "    </tr>\n",
       "  </thead>\n",
       "  <tbody>\n",
       "    <tr>\n",
       "      <th>77</th>\n",
       "      <td>policy_77901</td>\n",
       "      <td>3</td>\n",
       "      <td>owned</td>\n",
       "      <td>NaN</td>\n",
       "      <td>4.0</td>\n",
       "      <td>BMW : 535D</td>\n",
       "    </tr>\n",
       "    <tr>\n",
       "      <th>245</th>\n",
       "      <td>policy_37794</td>\n",
       "      <td>3</td>\n",
       "      <td>owned</td>\n",
       "      <td>NaN</td>\n",
       "      <td>7.0</td>\n",
       "      <td>ACURA : RL</td>\n",
       "    </tr>\n",
       "    <tr>\n",
       "      <th>515</th>\n",
       "      <td>policy_60534</td>\n",
       "      <td>4</td>\n",
       "      <td>owned</td>\n",
       "      <td>NaN</td>\n",
       "      <td>2.0</td>\n",
       "      <td>MERCEDES-BENZ : ML63 AMG</td>\n",
       "    </tr>\n",
       "    <tr>\n",
       "      <th>577</th>\n",
       "      <td>policy_36358</td>\n",
       "      <td>1</td>\n",
       "      <td>loaned</td>\n",
       "      <td>NaN</td>\n",
       "      <td>7.0</td>\n",
       "      <td>MERCEDES-BENZ : SL600</td>\n",
       "    </tr>\n",
       "    <tr>\n",
       "      <th>637</th>\n",
       "      <td>policy_14342</td>\n",
       "      <td>2</td>\n",
       "      <td>owned</td>\n",
       "      <td>NaN</td>\n",
       "      <td>9.0</td>\n",
       "      <td>BMW : 135I</td>\n",
       "    </tr>\n",
       "    <tr>\n",
       "      <th>...</th>\n",
       "      <td>...</td>\n",
       "      <td>...</td>\n",
       "      <td>...</td>\n",
       "      <td>...</td>\n",
       "      <td>...</td>\n",
       "      <td>...</td>\n",
       "    </tr>\n",
       "    <tr>\n",
       "      <th>168116</th>\n",
       "      <td>policy_29878</td>\n",
       "      <td>3</td>\n",
       "      <td>leased</td>\n",
       "      <td>NaN</td>\n",
       "      <td>7.0</td>\n",
       "      <td>FORD : GRAND MARQUIS</td>\n",
       "    </tr>\n",
       "    <tr>\n",
       "      <th>168174</th>\n",
       "      <td>policy_38226</td>\n",
       "      <td>2</td>\n",
       "      <td>owned</td>\n",
       "      <td>NaN</td>\n",
       "      <td>4.0</td>\n",
       "      <td>FORD : EXPLORER SPORT TRAC</td>\n",
       "    </tr>\n",
       "    <tr>\n",
       "      <th>168341</th>\n",
       "      <td>policy_30342</td>\n",
       "      <td>1</td>\n",
       "      <td>owned</td>\n",
       "      <td>NaN</td>\n",
       "      <td>4.0</td>\n",
       "      <td>FORD : LOBO</td>\n",
       "    </tr>\n",
       "    <tr>\n",
       "      <th>168342</th>\n",
       "      <td>policy_58543</td>\n",
       "      <td>1</td>\n",
       "      <td>owned</td>\n",
       "      <td>NaN</td>\n",
       "      <td>7.0</td>\n",
       "      <td>HONDA : ODYSSEY</td>\n",
       "    </tr>\n",
       "    <tr>\n",
       "      <th>169111</th>\n",
       "      <td>policy_74020</td>\n",
       "      <td>3</td>\n",
       "      <td>owned</td>\n",
       "      <td>NaN</td>\n",
       "      <td>4.0</td>\n",
       "      <td>BUICK : ENCORE</td>\n",
       "    </tr>\n",
       "  </tbody>\n",
       "</table>\n",
       "<p>1072 rows × 6 columns</p>\n",
       "</div>"
      ],
      "text/plain": [
       "           policy_id  car_no ownership_type color  age  \\\n",
       "77      policy_77901       3          owned   NaN  4.0   \n",
       "245     policy_37794       3          owned   NaN  7.0   \n",
       "515     policy_60534       4          owned   NaN  2.0   \n",
       "577     policy_36358       1         loaned   NaN  7.0   \n",
       "637     policy_14342       2          owned   NaN  9.0   \n",
       "...              ...     ...            ...   ...  ...   \n",
       "168116  policy_29878       3         leased   NaN  7.0   \n",
       "168174  policy_38226       2          owned   NaN  4.0   \n",
       "168341  policy_30342       1          owned   NaN  4.0   \n",
       "168342  policy_58543       1          owned   NaN  7.0   \n",
       "169111  policy_74020       3          owned   NaN  4.0   \n",
       "\n",
       "                        make_model  \n",
       "77                      BMW : 535D  \n",
       "245                     ACURA : RL  \n",
       "515       MERCEDES-BENZ : ML63 AMG  \n",
       "577          MERCEDES-BENZ : SL600  \n",
       "637                     BMW : 135I  \n",
       "...                            ...  \n",
       "168116        FORD : GRAND MARQUIS  \n",
       "168174  FORD : EXPLORER SPORT TRAC  \n",
       "168341                 FORD : LOBO  \n",
       "168342             HONDA : ODYSSEY  \n",
       "169111              BUICK : ENCORE  \n",
       "\n",
       "[1072 rows x 6 columns]"
      ]
     },
     "execution_count": 8,
     "metadata": {},
     "output_type": "execute_result"
    }
   ],
   "source": [
    "# data that includes missing value. (1072 samples)\n",
    "vehicles_data[vehicles_data['color'].isna()]"
   ]
  },
  {
   "cell_type": "markdown",
   "id": "608838e1",
   "metadata": {},
   "source": [
    "Percentage of raws including missing value is approximately 0.95% out of total.\n",
    "\n",
    "How we can deal with those?\n",
    "\n",
    "1. simply deleting raws including any missing value.\n",
    "2. imputation using mean, median or mod.\n",
    "\n",
    "For missing color information, we can observe what it the model of car because there is no any missing vlaue for the make_model column."
   ]
  },
  {
   "cell_type": "code",
   "execution_count": 9,
   "id": "c1ed67ae",
   "metadata": {},
   "outputs": [
    {
     "data": {
      "text/plain": [
       "581"
      ]
     },
     "execution_count": 9,
     "metadata": {},
     "output_type": "execute_result"
    }
   ],
   "source": [
    "# number of samples do not have color information.\n",
    "list_missing_color_cars = list(vehicles_data[vehicles_data['color'].isna()==True]['make_model'].unique())"
   ]
  },
  {
   "cell_type": "code",
   "execution_count": 9,
   "id": "79aa122f",
   "metadata": {},
   "outputs": [
    {
     "ename": "NameError",
     "evalue": "name 'list_missing_color_cars' is not defined",
     "output_type": "error",
     "traceback": [
      "\u001b[0;31m---------------------------------------------------------------------------\u001b[0m",
      "\u001b[0;31mNameError\u001b[0m                                 Traceback (most recent call last)",
      "Input \u001b[0;32mIn [9]\u001b[0m, in \u001b[0;36m<cell line: 3>\u001b[0;34m()\u001b[0m\n\u001b[1;32m      1\u001b[0m \u001b[38;5;66;03m# imputation using mod of color of each car type\u001b[39;00m\n\u001b[1;32m      2\u001b[0m dict_mod_colors \u001b[38;5;241m=\u001b[39m {}\n\u001b[0;32m----> 3\u001b[0m \u001b[38;5;28;01mfor\u001b[39;00m i \u001b[38;5;129;01min\u001b[39;00m \u001b[43mlist_missing_color_cars\u001b[49m:\n\u001b[1;32m      4\u001b[0m     dict_mod_colors[i] \u001b[38;5;241m=\u001b[39m vehicles_data[vehicles_data[\u001b[38;5;124m'\u001b[39m\u001b[38;5;124mmake_model\u001b[39m\u001b[38;5;124m'\u001b[39m]\u001b[38;5;241m==\u001b[39mi][\u001b[38;5;124m'\u001b[39m\u001b[38;5;124mcolor\u001b[39m\u001b[38;5;124m'\u001b[39m]\u001b[38;5;241m.\u001b[39mvalue_counts()\u001b[38;5;241m.\u001b[39mindex\u001b[38;5;241m.\u001b[39mtolist()[\u001b[38;5;241m0\u001b[39m]\n\u001b[1;32m      6\u001b[0m \u001b[38;5;28;01mfor\u001b[39;00m i \u001b[38;5;129;01min\u001b[39;00m \u001b[38;5;28mrange\u001b[39m(\u001b[38;5;28mlen\u001b[39m(vehicles_data)):\n",
      "\u001b[0;31mNameError\u001b[0m: name 'list_missing_color_cars' is not defined"
     ]
    }
   ],
   "source": [
    "# imputation using mod of color of each car type\n",
    "dict_mod_colors = {}\n",
    "for i in list_missing_color_cars:\n",
    "    dict_mod_colors[i] = vehicles_data[vehicles_data['make_model']==i]['color'].value_counts().index.tolist()[0]\n",
    "    \n",
    "for i in range(len(vehicles_data)):\n",
    "    \n",
    "    if type(vehicles_data.loc[i]['color'])==float:\n",
    "        \n",
    "        vehicles_data.loc[i, ('color')]=dict_mod_colors[vehicles_data.loc[i]['make_model']]"
   ]
  },
  {
   "cell_type": "markdown",
   "id": "6caf76d7",
   "metadata": {},
   "source": [
    "We can see the each car has several different colors, so we can find mode of color each car and we can use that for missing car type."
   ]
  },
  {
   "cell_type": "markdown",
   "id": "b5226d76",
   "metadata": {},
   "source": [
    "For age, I think it is reasonable to use just mean of all age to fill out missing age."
   ]
  },
  {
   "cell_type": "code",
   "execution_count": 13,
   "id": "ecffea8a",
   "metadata": {},
   "outputs": [],
   "source": []
  },
  {
   "cell_type": "code",
   "execution_count": null,
   "id": "5bee18e7",
   "metadata": {},
   "outputs": [],
   "source": [
    "# now we don't have any missing color data\n",
    "vehicles_data.isna().sum()"
   ]
  },
  {
   "cell_type": "code",
   "execution_count": 15,
   "id": "028d2f7c",
   "metadata": {},
   "outputs": [
    {
     "name": "stdout",
     "output_type": "stream",
     "text": [
      "policy_id         policy_77901\n",
      "car_no                       3\n",
      "ownership_type           owned\n",
      "color                     blue\n",
      "age                        4.0\n",
      "make_model          BMW : 535D\n",
      "Name: 77, dtype: object\n",
      "\n",
      "blue\n"
     ]
    }
   ],
   "source": [
    "print(vehicles_data.loc[77])\n",
    "print()\n",
    "print(dict_mod_colors['BMW : 535D'])"
   ]
  },
  {
   "cell_type": "code",
   "execution_count": 16,
   "id": "181544f8",
   "metadata": {},
   "outputs": [
    {
     "name": "stdout",
     "output_type": "stream",
     "text": [
      "policy_id                  policy_36358\n",
      "car_no                                1\n",
      "ownership_type                   loaned\n",
      "color                              blue\n",
      "age                                 7.0\n",
      "make_model        MERCEDES-BENZ : SL600\n",
      "Name: 577, dtype: object\n",
      "\n",
      "blue\n"
     ]
    }
   ],
   "source": [
    "print(vehicles_data.loc[577])\n",
    "print()\n",
    "print(dict_mod_colors['MERCEDES-BENZ : SL600'])"
   ]
  },
  {
   "cell_type": "code",
   "execution_count": null,
   "id": "248fafa9",
   "metadata": {},
   "outputs": [],
   "source": [
    "# imputation using mean of age\n",
    "vehicles_data = vehicles_data.fillna(vehicles_data.mean()['age'])"
   ]
  },
  {
   "cell_type": "code",
   "execution_count": null,
   "id": "5add70b7",
   "metadata": {},
   "outputs": [],
   "source": [
    "# no missing value\n",
    "vehicles_data.isna().sum()"
   ]
  },
  {
   "cell_type": "code",
   "execution_count": 19,
   "id": "03b29689",
   "metadata": {},
   "outputs": [
    {
     "data": {
      "text/html": [
       "<div>\n",
       "<style scoped>\n",
       "    .dataframe tbody tr th:only-of-type {\n",
       "        vertical-align: middle;\n",
       "    }\n",
       "\n",
       "    .dataframe tbody tr th {\n",
       "        vertical-align: top;\n",
       "    }\n",
       "\n",
       "    .dataframe thead th {\n",
       "        text-align: right;\n",
       "    }\n",
       "</style>\n",
       "<table border=\"1\" class=\"dataframe\">\n",
       "  <thead>\n",
       "    <tr style=\"text-align: right;\">\n",
       "      <th></th>\n",
       "      <th>policy_id</th>\n",
       "      <th>car_no</th>\n",
       "      <th>ownership_type</th>\n",
       "      <th>color</th>\n",
       "      <th>age</th>\n",
       "      <th>make_model</th>\n",
       "    </tr>\n",
       "  </thead>\n",
       "  <tbody>\n",
       "    <tr>\n",
       "      <th>0</th>\n",
       "      <td>policy_74571</td>\n",
       "      <td>1</td>\n",
       "      <td>leased</td>\n",
       "      <td>other</td>\n",
       "      <td>4.0</td>\n",
       "      <td>BMW : R1200CL</td>\n",
       "    </tr>\n",
       "    <tr>\n",
       "      <th>1</th>\n",
       "      <td>policy_74571</td>\n",
       "      <td>2</td>\n",
       "      <td>owned</td>\n",
       "      <td>blue</td>\n",
       "      <td>3.0</td>\n",
       "      <td>ACURA : TL</td>\n",
       "    </tr>\n",
       "    <tr>\n",
       "      <th>2</th>\n",
       "      <td>policy_1998</td>\n",
       "      <td>1</td>\n",
       "      <td>owned</td>\n",
       "      <td>gray</td>\n",
       "      <td>7.0</td>\n",
       "      <td>BMW : 750LI</td>\n",
       "    </tr>\n",
       "    <tr>\n",
       "      <th>3</th>\n",
       "      <td>policy_28085</td>\n",
       "      <td>1</td>\n",
       "      <td>owned</td>\n",
       "      <td>gray</td>\n",
       "      <td>4.0</td>\n",
       "      <td>MERCEDES-BENZ : G55 AMG</td>\n",
       "    </tr>\n",
       "    <tr>\n",
       "      <th>4</th>\n",
       "      <td>policy_64282</td>\n",
       "      <td>1</td>\n",
       "      <td>owned</td>\n",
       "      <td>black</td>\n",
       "      <td>4.0</td>\n",
       "      <td>BMW : 550I GT</td>\n",
       "    </tr>\n",
       "    <tr>\n",
       "      <th>...</th>\n",
       "      <td>...</td>\n",
       "      <td>...</td>\n",
       "      <td>...</td>\n",
       "      <td>...</td>\n",
       "      <td>...</td>\n",
       "      <td>...</td>\n",
       "    </tr>\n",
       "    <tr>\n",
       "      <th>169232</th>\n",
       "      <td>policy_34204</td>\n",
       "      <td>4</td>\n",
       "      <td>owned</td>\n",
       "      <td>gray</td>\n",
       "      <td>6.0</td>\n",
       "      <td>TOYOTA : RAV4</td>\n",
       "    </tr>\n",
       "    <tr>\n",
       "      <th>169233</th>\n",
       "      <td>policy_34204</td>\n",
       "      <td>5</td>\n",
       "      <td>loaned</td>\n",
       "      <td>black</td>\n",
       "      <td>8.0</td>\n",
       "      <td>GMC : SIERRA 1500</td>\n",
       "    </tr>\n",
       "    <tr>\n",
       "      <th>169234</th>\n",
       "      <td>policy_621</td>\n",
       "      <td>1</td>\n",
       "      <td>owned</td>\n",
       "      <td>other</td>\n",
       "      <td>6.0</td>\n",
       "      <td>DODGE : CHARGER</td>\n",
       "    </tr>\n",
       "    <tr>\n",
       "      <th>169235</th>\n",
       "      <td>policy_621</td>\n",
       "      <td>2</td>\n",
       "      <td>owned</td>\n",
       "      <td>black</td>\n",
       "      <td>3.0</td>\n",
       "      <td>GMC : SAVANA 4500</td>\n",
       "    </tr>\n",
       "    <tr>\n",
       "      <th>169236</th>\n",
       "      <td>policy_621</td>\n",
       "      <td>3</td>\n",
       "      <td>loaned</td>\n",
       "      <td>other</td>\n",
       "      <td>4.0</td>\n",
       "      <td>HONDA : CB900F 919</td>\n",
       "    </tr>\n",
       "  </tbody>\n",
       "</table>\n",
       "<p>169237 rows × 6 columns</p>\n",
       "</div>"
      ],
      "text/plain": [
       "           policy_id  car_no ownership_type  color  age  \\\n",
       "0       policy_74571       1         leased  other  4.0   \n",
       "1       policy_74571       2          owned   blue  3.0   \n",
       "2        policy_1998       1          owned   gray  7.0   \n",
       "3       policy_28085       1          owned   gray  4.0   \n",
       "4       policy_64282       1          owned  black  4.0   \n",
       "...              ...     ...            ...    ...  ...   \n",
       "169232  policy_34204       4          owned   gray  6.0   \n",
       "169233  policy_34204       5         loaned  black  8.0   \n",
       "169234    policy_621       1          owned  other  6.0   \n",
       "169235    policy_621       2          owned  black  3.0   \n",
       "169236    policy_621       3         loaned  other  4.0   \n",
       "\n",
       "                     make_model  \n",
       "0                 BMW : R1200CL  \n",
       "1                    ACURA : TL  \n",
       "2                   BMW : 750LI  \n",
       "3       MERCEDES-BENZ : G55 AMG  \n",
       "4                 BMW : 550I GT  \n",
       "...                         ...  \n",
       "169232            TOYOTA : RAV4  \n",
       "169233        GMC : SIERRA 1500  \n",
       "169234          DODGE : CHARGER  \n",
       "169235        GMC : SAVANA 4500  \n",
       "169236       HONDA : CB900F 919  \n",
       "\n",
       "[169237 rows x 6 columns]"
      ]
     },
     "execution_count": 19,
     "metadata": {},
     "output_type": "execute_result"
    }
   ],
   "source": [
    "vehicles_data"
   ]
  },
  {
   "cell_type": "markdown",
   "id": "11cc30e4",
   "metadata": {},
   "source": [
    "## Handling Outliers"
   ]
  },
  {
   "cell_type": "code",
   "execution_count": null,
   "id": "4bcd0ee0",
   "metadata": {},
   "outputs": [],
   "source": [
    "plt.rc('font', size=9)  \n",
    "plt.subplots_adjust(right=1)\n",
    "\n",
    "\n",
    "plt.subplot(221)\n",
    "vehicles_data.ownership_type.value_counts(normalize=True).plot.pie()\n",
    "\n",
    "plt.subplot(222)\n",
    "vehicles_data.color.value_counts(normalize=True).plot.pie()\n",
    "\n",
    "# plt.subplot(223)\n",
    "# vehicles_data.car_no.value_counts(normalize=True).plot.barh()\n",
    "\n",
    "plt.subplot(223)\n",
    "vehicles_data.age.value_counts(normalize=True).plot.barh()\n",
    "\n",
    "plt.show()"
   ]
  },
  {
   "cell_type": "code",
   "execution_count": 21,
   "id": "2bed76a1",
   "metadata": {},
   "outputs": [
    {
     "data": {
      "text/plain": [
       "count    169237.000000\n",
       "mean          2.485231\n",
       "std           1.345593\n",
       "min           1.000000\n",
       "25%           1.000000\n",
       "50%           2.000000\n",
       "75%           3.000000\n",
       "max           8.000000\n",
       "Name: car_no, dtype: float64"
      ]
     },
     "execution_count": 21,
     "metadata": {},
     "output_type": "execute_result"
    }
   ],
   "source": [
    "vehicles_data.car_no.describe()"
   ]
  },
  {
   "cell_type": "code",
   "execution_count": null,
   "id": "c3947d6c",
   "metadata": {},
   "outputs": [],
   "source": [
    "vehicles_data.age.describe()"
   ]
  },
  {
   "cell_type": "code",
   "execution_count": null,
   "id": "efbd336a",
   "metadata": {},
   "outputs": [],
   "source": [
    "sns.pairplot(data=vehicles_data, vars=['car_no', 'ownership_type', 'color', 'age'])"
   ]
  },
  {
   "cell_type": "code",
   "execution_count": null,
   "id": "a98b1ad7",
   "metadata": {},
   "outputs": [],
   "source": [
    "sns.heatmap(vehicles_data[['age', 'car_no']].corr(), annot=True, cmap = 'Reds')\n",
    "plt.show()"
   ]
  },
  {
   "cell_type": "code",
   "execution_count": 41,
   "id": "914d3739",
   "metadata": {},
   "outputs": [],
   "source": [
    "# for i in list(vehicles_data.groupby('policy_id')['car_no'].max()):\n",
    "#     print(i, list(vehicles_data.groupby('policy_id')['car_no'].max()).count(i))"
   ]
  },
  {
   "cell_type": "code",
   "execution_count": 44,
   "id": "a0dc503e",
   "metadata": {},
   "outputs": [
    {
     "data": {
      "text/plain": [
       "policy_id\n",
       "policy_100      6\n",
       "policy_1000     2\n",
       "policy_10001    2\n",
       "policy_10002    5\n",
       "policy_10004    2\n",
       "               ..\n",
       "policy_99994    4\n",
       "policy_99996    4\n",
       "policy_99997    4\n",
       "policy_99998    1\n",
       "policy_99999    6\n",
       "Name: car_no, Length: 49162, dtype: int64"
      ]
     },
     "execution_count": 44,
     "metadata": {},
     "output_type": "execute_result"
    }
   ],
   "source": [
    "vehicles_data.groupby('policy_id')['car_no'].max()"
   ]
  },
  {
   "cell_type": "code",
   "execution_count": null,
   "id": "0b0a7926",
   "metadata": {},
   "outputs": [],
   "source": [
    "# temp includes number of cards included in each policy\n",
    "temp = list(vehicles_data.groupby('policy_id')['car_no'].max())"
   ]
  },
  {
   "cell_type": "code",
   "execution_count": null,
   "id": "db88258b",
   "metadata": {},
   "outputs": [],
   "source": [
    "# statistics of the number of cars in each policy.\n",
    "print(pd.DataFrame(temp).describe())\n",
    "\n",
    "plt.hist(temp)\n",
    "plt.show()"
   ]
  },
  {
   "cell_type": "code",
   "execution_count": null,
   "id": "a7e88609",
   "metadata": {},
   "outputs": [],
   "source": []
  }
 ],
 "metadata": {
  "kernelspec": {
   "display_name": "Python 3 (ipykernel)",
   "language": "python",
   "name": "python3"
  },
  "language_info": {
   "codemirror_mode": {
    "name": "ipython",
    "version": 3
   },
   "file_extension": ".py",
   "mimetype": "text/x-python",
   "name": "python",
   "nbconvert_exporter": "python",
   "pygments_lexer": "ipython3",
   "version": "3.9.12"
  }
 },
 "nbformat": 4,
 "nbformat_minor": 5
}
